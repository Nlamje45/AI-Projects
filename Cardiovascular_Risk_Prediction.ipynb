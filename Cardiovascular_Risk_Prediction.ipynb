{
  "nbformat": 4,
  "nbformat_minor": 0,
  "metadata": {
    "colab": {
      "name": "Cardiovascular Risk Prediction.ipynb",
      "provenance": [],
      "collapsed_sections": [],
      "authorship_tag": "ABX9TyM/EjE77iPlqXjW6wgl9cpB",
      "include_colab_link": true
    },
    "kernelspec": {
      "display_name": "Python 3",
      "name": "python3"
    },
    "language_info": {
      "name": "python"
    }
  },
  "cells": [
    {
      "cell_type": "markdown",
      "metadata": {
        "id": "view-in-github",
        "colab_type": "text"
      },
      "source": [
        "<a href=\"https://colab.research.google.com/github/Nlamje45/AI-Projects/blob/main/Cardiovascular_Risk_Prediction.ipynb\" target=\"_parent\"><img src=\"https://colab.research.google.com/assets/colab-badge.svg\" alt=\"Open In Colab\"/></a>"
      ]
    },
    {
      "cell_type": "markdown",
      "metadata": {
        "id": "qZs8AXByomLB"
      },
      "source": [
        "# <b><u> Project Title : Cardiovascular Risk Prediction </u></b>"
      ]
    },
    {
      "cell_type": "markdown",
      "metadata": {
        "id": "ggzn3RjFo3Cs"
      },
      "source": [
        "The dataset is from an ongoing cardiovascular study on residents of the town of Framingham,\n",
        "Massachusetts. The classification goal is to predict whether the patient has a 10-year risk of\n",
        "future coronary heart disease (CHD). The dataset provides the patients’ information. It includes\n",
        "over 4,000 records and 15 attributes.\n",
        "Variables\n",
        "Each attribute is a potential risk factor. There are both demographic, behavioral, and medical risk\n",
        "factors.\n",
        "\n",
        "Data Description\n",
        "Demographic:\n",
        "\n",
        "• Sex: male or female(\"M\" or \"F\")\n",
        "\n",
        "• Age: Age of the patient;(Continuous - Although the recorded ages have been truncated to\n",
        "whole numbers, the concept of age is continuous)\n",
        "Behavioral\n",
        "\n",
        "• is_smoking: whether or not the patient is a current smoker (\"YES\" or \"NO\")\n",
        "\n",
        "• Cigs Per Day: the number of cigarettes that the person smoked on average in one day.(can be\n",
        "considered continuous as one can have any number of cigarettes, even half a cigarette.)\n",
        "\n",
        "Medical( history)\n",
        "• BP Meds: whether or not the patient was on blood pressure medication (Nominal)\n",
        "\n",
        "• Prevalent Stroke: whether or not the patient had previously had a stroke (Nominal)\n",
        "\n",
        "• Prevalent Hyp: whether or not the patient was hypertensive (Nominal)\n",
        "\n",
        "• Diabetes: whether or not the patient had diabetes (Nominal)\n",
        "\n",
        "Medical(current)\n",
        "\n",
        "• Tot Chol: total cholesterol level (Continuous)\n",
        "\n",
        "• Sys BP: systolic blood pressure (Continuous)\n",
        "\n",
        "• Dia BP: diastolic blood pressure (Continuous)\n",
        "\n",
        "• BMI: Body Mass Index (Continuous)\n",
        "\n",
        "• Heart Rate: heart rate (Continuous - In medical research, variables such as heart rate though in\n",
        "fact discrete, yet are considered continuous because of large number of possible values.)\n",
        "\n",
        "• Glucose: glucose level (Continuous)\n",
        "\n",
        "Predict variable (desired target)\n",
        "• 10-year risk of coronary heart disease CHD(binary: “1”, means “Yes”, “0” means “No”) -\n",
        "DV"
      ]
    },
    {
      "cell_type": "markdown",
      "metadata": {
        "id": "IOonOcHzrDKF"
      },
      "source": [
        "\n",
        "\n",
        "*   **Importing data**\n",
        "\n"
      ]
    },
    {
      "cell_type": "code",
      "metadata": {
        "colab": {
          "base_uri": "https://localhost:8080/"
        },
        "id": "vs7jbG0FoLrY",
        "outputId": "dcdcb85f-b7da-4a71-c4d8-e299f4d29b58"
      },
      "source": [
        "from google.colab import drive\n",
        "drive.mount('/content/drive')"
      ],
      "execution_count": 1,
      "outputs": [
        {
          "output_type": "stream",
          "name": "stdout",
          "text": [
            "Mounted at /content/drive\n"
          ]
        }
      ]
    },
    {
      "cell_type": "code",
      "metadata": {
        "id": "26aewP8SounW"
      },
      "source": [
        "import pandas as pd\n",
        "import numpy as np\n",
        "import seaborn as sns\n",
        "import matplotlib.pyplot as plt\n"
      ],
      "execution_count": 2,
      "outputs": []
    },
    {
      "cell_type": "code",
      "metadata": {
        "colab": {
          "base_uri": "https://localhost:8080/",
          "height": 206
        },
        "id": "2jBKuHfnpuFi",
        "outputId": "50481efe-1dfd-4445-cb5e-8664b90a5555"
      },
      "source": [
        "d=pd.read_csv(\"/content/drive/MyDrive/Colab Notebooks/data_cardiovascular_risk.csv\", encoding= 'unicode_escape')\n",
        "d.head()"
      ],
      "execution_count": 3,
      "outputs": [
        {
          "output_type": "execute_result",
          "data": {
            "text/html": [
              "<div>\n",
              "<style scoped>\n",
              "    .dataframe tbody tr th:only-of-type {\n",
              "        vertical-align: middle;\n",
              "    }\n",
              "\n",
              "    .dataframe tbody tr th {\n",
              "        vertical-align: top;\n",
              "    }\n",
              "\n",
              "    .dataframe thead th {\n",
              "        text-align: right;\n",
              "    }\n",
              "</style>\n",
              "<table border=\"1\" class=\"dataframe\">\n",
              "  <thead>\n",
              "    <tr style=\"text-align: right;\">\n",
              "      <th></th>\n",
              "      <th>id</th>\n",
              "      <th>age</th>\n",
              "      <th>education</th>\n",
              "      <th>sex</th>\n",
              "      <th>is_smoking</th>\n",
              "      <th>cigsPerDay</th>\n",
              "      <th>BPMeds</th>\n",
              "      <th>prevalentStroke</th>\n",
              "      <th>prevalentHyp</th>\n",
              "      <th>diabetes</th>\n",
              "      <th>totChol</th>\n",
              "      <th>sysBP</th>\n",
              "      <th>diaBP</th>\n",
              "      <th>BMI</th>\n",
              "      <th>heartRate</th>\n",
              "      <th>glucose</th>\n",
              "      <th>TenYearCHD</th>\n",
              "    </tr>\n",
              "  </thead>\n",
              "  <tbody>\n",
              "    <tr>\n",
              "      <th>0</th>\n",
              "      <td>0</td>\n",
              "      <td>64</td>\n",
              "      <td>2.0</td>\n",
              "      <td>F</td>\n",
              "      <td>YES</td>\n",
              "      <td>3.0</td>\n",
              "      <td>0.0</td>\n",
              "      <td>0</td>\n",
              "      <td>0</td>\n",
              "      <td>0</td>\n",
              "      <td>221.0</td>\n",
              "      <td>148.0</td>\n",
              "      <td>85.0</td>\n",
              "      <td>NaN</td>\n",
              "      <td>90.0</td>\n",
              "      <td>80.0</td>\n",
              "      <td>1</td>\n",
              "    </tr>\n",
              "    <tr>\n",
              "      <th>1</th>\n",
              "      <td>1</td>\n",
              "      <td>36</td>\n",
              "      <td>4.0</td>\n",
              "      <td>M</td>\n",
              "      <td>NO</td>\n",
              "      <td>0.0</td>\n",
              "      <td>0.0</td>\n",
              "      <td>0</td>\n",
              "      <td>1</td>\n",
              "      <td>0</td>\n",
              "      <td>212.0</td>\n",
              "      <td>168.0</td>\n",
              "      <td>98.0</td>\n",
              "      <td>29.77</td>\n",
              "      <td>72.0</td>\n",
              "      <td>75.0</td>\n",
              "      <td>0</td>\n",
              "    </tr>\n",
              "    <tr>\n",
              "      <th>2</th>\n",
              "      <td>2</td>\n",
              "      <td>46</td>\n",
              "      <td>1.0</td>\n",
              "      <td>F</td>\n",
              "      <td>YES</td>\n",
              "      <td>10.0</td>\n",
              "      <td>0.0</td>\n",
              "      <td>0</td>\n",
              "      <td>0</td>\n",
              "      <td>0</td>\n",
              "      <td>250.0</td>\n",
              "      <td>116.0</td>\n",
              "      <td>71.0</td>\n",
              "      <td>20.35</td>\n",
              "      <td>88.0</td>\n",
              "      <td>94.0</td>\n",
              "      <td>0</td>\n",
              "    </tr>\n",
              "    <tr>\n",
              "      <th>3</th>\n",
              "      <td>3</td>\n",
              "      <td>50</td>\n",
              "      <td>1.0</td>\n",
              "      <td>M</td>\n",
              "      <td>YES</td>\n",
              "      <td>20.0</td>\n",
              "      <td>0.0</td>\n",
              "      <td>0</td>\n",
              "      <td>1</td>\n",
              "      <td>0</td>\n",
              "      <td>233.0</td>\n",
              "      <td>158.0</td>\n",
              "      <td>88.0</td>\n",
              "      <td>28.26</td>\n",
              "      <td>68.0</td>\n",
              "      <td>94.0</td>\n",
              "      <td>1</td>\n",
              "    </tr>\n",
              "    <tr>\n",
              "      <th>4</th>\n",
              "      <td>4</td>\n",
              "      <td>64</td>\n",
              "      <td>1.0</td>\n",
              "      <td>F</td>\n",
              "      <td>YES</td>\n",
              "      <td>30.0</td>\n",
              "      <td>0.0</td>\n",
              "      <td>0</td>\n",
              "      <td>0</td>\n",
              "      <td>0</td>\n",
              "      <td>241.0</td>\n",
              "      <td>136.5</td>\n",
              "      <td>85.0</td>\n",
              "      <td>26.42</td>\n",
              "      <td>70.0</td>\n",
              "      <td>77.0</td>\n",
              "      <td>0</td>\n",
              "    </tr>\n",
              "  </tbody>\n",
              "</table>\n",
              "</div>"
            ],
            "text/plain": [
              "   id  age  education sex  ...    BMI  heartRate  glucose  TenYearCHD\n",
              "0   0   64        2.0   F  ...    NaN       90.0     80.0           1\n",
              "1   1   36        4.0   M  ...  29.77       72.0     75.0           0\n",
              "2   2   46        1.0   F  ...  20.35       88.0     94.0           0\n",
              "3   3   50        1.0   M  ...  28.26       68.0     94.0           1\n",
              "4   4   64        1.0   F  ...  26.42       70.0     77.0           0\n",
              "\n",
              "[5 rows x 17 columns]"
            ]
          },
          "metadata": {},
          "execution_count": 3
        }
      ]
    },
    {
      "cell_type": "markdown",
      "metadata": {
        "id": "6OQDXnoCrddK"
      },
      "source": [
        "\n",
        "\n",
        "*   **Exploratory Data Analysis**\n",
        "\n"
      ]
    },
    {
      "cell_type": "code",
      "metadata": {
        "colab": {
          "base_uri": "https://localhost:8080/"
        },
        "id": "8RQzkjFSqTBs",
        "outputId": "d07661e7-b897-4847-ab06-10854b386146"
      },
      "source": [
        "d.info()"
      ],
      "execution_count": 4,
      "outputs": [
        {
          "output_type": "stream",
          "name": "stdout",
          "text": [
            "<class 'pandas.core.frame.DataFrame'>\n",
            "RangeIndex: 3390 entries, 0 to 3389\n",
            "Data columns (total 17 columns):\n",
            " #   Column           Non-Null Count  Dtype  \n",
            "---  ------           --------------  -----  \n",
            " 0   id               3390 non-null   int64  \n",
            " 1   age              3390 non-null   int64  \n",
            " 2   education        3303 non-null   float64\n",
            " 3   sex              3390 non-null   object \n",
            " 4   is_smoking       3390 non-null   object \n",
            " 5   cigsPerDay       3368 non-null   float64\n",
            " 6   BPMeds           3346 non-null   float64\n",
            " 7   prevalentStroke  3390 non-null   int64  \n",
            " 8   prevalentHyp     3390 non-null   int64  \n",
            " 9   diabetes         3390 non-null   int64  \n",
            " 10  totChol          3352 non-null   float64\n",
            " 11  sysBP            3390 non-null   float64\n",
            " 12  diaBP            3390 non-null   float64\n",
            " 13  BMI              3376 non-null   float64\n",
            " 14  heartRate        3389 non-null   float64\n",
            " 15  glucose          3086 non-null   float64\n",
            " 16  TenYearCHD       3390 non-null   int64  \n",
            "dtypes: float64(9), int64(6), object(2)\n",
            "memory usage: 450.4+ KB\n"
          ]
        }
      ]
    },
    {
      "cell_type": "code",
      "metadata": {
        "colab": {
          "base_uri": "https://localhost:8080/",
          "height": 320
        },
        "id": "lyQtU_HFsDvI",
        "outputId": "e7b30986-1e1c-4658-df09-35d52ec5ffdc"
      },
      "source": [
        "d.describe()"
      ],
      "execution_count": 5,
      "outputs": [
        {
          "output_type": "execute_result",
          "data": {
            "text/html": [
              "<div>\n",
              "<style scoped>\n",
              "    .dataframe tbody tr th:only-of-type {\n",
              "        vertical-align: middle;\n",
              "    }\n",
              "\n",
              "    .dataframe tbody tr th {\n",
              "        vertical-align: top;\n",
              "    }\n",
              "\n",
              "    .dataframe thead th {\n",
              "        text-align: right;\n",
              "    }\n",
              "</style>\n",
              "<table border=\"1\" class=\"dataframe\">\n",
              "  <thead>\n",
              "    <tr style=\"text-align: right;\">\n",
              "      <th></th>\n",
              "      <th>id</th>\n",
              "      <th>age</th>\n",
              "      <th>education</th>\n",
              "      <th>cigsPerDay</th>\n",
              "      <th>BPMeds</th>\n",
              "      <th>prevalentStroke</th>\n",
              "      <th>prevalentHyp</th>\n",
              "      <th>diabetes</th>\n",
              "      <th>totChol</th>\n",
              "      <th>sysBP</th>\n",
              "      <th>diaBP</th>\n",
              "      <th>BMI</th>\n",
              "      <th>heartRate</th>\n",
              "      <th>glucose</th>\n",
              "      <th>TenYearCHD</th>\n",
              "    </tr>\n",
              "  </thead>\n",
              "  <tbody>\n",
              "    <tr>\n",
              "      <th>count</th>\n",
              "      <td>3390.000000</td>\n",
              "      <td>3390.000000</td>\n",
              "      <td>3303.000000</td>\n",
              "      <td>3368.000000</td>\n",
              "      <td>3346.000000</td>\n",
              "      <td>3390.000000</td>\n",
              "      <td>3390.000000</td>\n",
              "      <td>3390.000000</td>\n",
              "      <td>3352.000000</td>\n",
              "      <td>3390.00000</td>\n",
              "      <td>3390.000000</td>\n",
              "      <td>3376.000000</td>\n",
              "      <td>3389.000000</td>\n",
              "      <td>3086.000000</td>\n",
              "      <td>3390.000000</td>\n",
              "    </tr>\n",
              "    <tr>\n",
              "      <th>mean</th>\n",
              "      <td>1694.500000</td>\n",
              "      <td>49.542183</td>\n",
              "      <td>1.970936</td>\n",
              "      <td>9.069477</td>\n",
              "      <td>0.029886</td>\n",
              "      <td>0.006490</td>\n",
              "      <td>0.315339</td>\n",
              "      <td>0.025664</td>\n",
              "      <td>237.074284</td>\n",
              "      <td>132.60118</td>\n",
              "      <td>82.883038</td>\n",
              "      <td>25.794964</td>\n",
              "      <td>75.977279</td>\n",
              "      <td>82.086520</td>\n",
              "      <td>0.150737</td>\n",
              "    </tr>\n",
              "    <tr>\n",
              "      <th>std</th>\n",
              "      <td>978.753033</td>\n",
              "      <td>8.592878</td>\n",
              "      <td>1.019081</td>\n",
              "      <td>11.879078</td>\n",
              "      <td>0.170299</td>\n",
              "      <td>0.080309</td>\n",
              "      <td>0.464719</td>\n",
              "      <td>0.158153</td>\n",
              "      <td>45.247430</td>\n",
              "      <td>22.29203</td>\n",
              "      <td>12.023581</td>\n",
              "      <td>4.115449</td>\n",
              "      <td>11.971868</td>\n",
              "      <td>24.244753</td>\n",
              "      <td>0.357846</td>\n",
              "    </tr>\n",
              "    <tr>\n",
              "      <th>min</th>\n",
              "      <td>0.000000</td>\n",
              "      <td>32.000000</td>\n",
              "      <td>1.000000</td>\n",
              "      <td>0.000000</td>\n",
              "      <td>0.000000</td>\n",
              "      <td>0.000000</td>\n",
              "      <td>0.000000</td>\n",
              "      <td>0.000000</td>\n",
              "      <td>107.000000</td>\n",
              "      <td>83.50000</td>\n",
              "      <td>48.000000</td>\n",
              "      <td>15.960000</td>\n",
              "      <td>45.000000</td>\n",
              "      <td>40.000000</td>\n",
              "      <td>0.000000</td>\n",
              "    </tr>\n",
              "    <tr>\n",
              "      <th>25%</th>\n",
              "      <td>847.250000</td>\n",
              "      <td>42.000000</td>\n",
              "      <td>1.000000</td>\n",
              "      <td>0.000000</td>\n",
              "      <td>0.000000</td>\n",
              "      <td>0.000000</td>\n",
              "      <td>0.000000</td>\n",
              "      <td>0.000000</td>\n",
              "      <td>206.000000</td>\n",
              "      <td>117.00000</td>\n",
              "      <td>74.500000</td>\n",
              "      <td>23.020000</td>\n",
              "      <td>68.000000</td>\n",
              "      <td>71.000000</td>\n",
              "      <td>0.000000</td>\n",
              "    </tr>\n",
              "    <tr>\n",
              "      <th>50%</th>\n",
              "      <td>1694.500000</td>\n",
              "      <td>49.000000</td>\n",
              "      <td>2.000000</td>\n",
              "      <td>0.000000</td>\n",
              "      <td>0.000000</td>\n",
              "      <td>0.000000</td>\n",
              "      <td>0.000000</td>\n",
              "      <td>0.000000</td>\n",
              "      <td>234.000000</td>\n",
              "      <td>128.50000</td>\n",
              "      <td>82.000000</td>\n",
              "      <td>25.380000</td>\n",
              "      <td>75.000000</td>\n",
              "      <td>78.000000</td>\n",
              "      <td>0.000000</td>\n",
              "    </tr>\n",
              "    <tr>\n",
              "      <th>75%</th>\n",
              "      <td>2541.750000</td>\n",
              "      <td>56.000000</td>\n",
              "      <td>3.000000</td>\n",
              "      <td>20.000000</td>\n",
              "      <td>0.000000</td>\n",
              "      <td>0.000000</td>\n",
              "      <td>1.000000</td>\n",
              "      <td>0.000000</td>\n",
              "      <td>264.000000</td>\n",
              "      <td>144.00000</td>\n",
              "      <td>90.000000</td>\n",
              "      <td>28.040000</td>\n",
              "      <td>83.000000</td>\n",
              "      <td>87.000000</td>\n",
              "      <td>0.000000</td>\n",
              "    </tr>\n",
              "    <tr>\n",
              "      <th>max</th>\n",
              "      <td>3389.000000</td>\n",
              "      <td>70.000000</td>\n",
              "      <td>4.000000</td>\n",
              "      <td>70.000000</td>\n",
              "      <td>1.000000</td>\n",
              "      <td>1.000000</td>\n",
              "      <td>1.000000</td>\n",
              "      <td>1.000000</td>\n",
              "      <td>696.000000</td>\n",
              "      <td>295.00000</td>\n",
              "      <td>142.500000</td>\n",
              "      <td>56.800000</td>\n",
              "      <td>143.000000</td>\n",
              "      <td>394.000000</td>\n",
              "      <td>1.000000</td>\n",
              "    </tr>\n",
              "  </tbody>\n",
              "</table>\n",
              "</div>"
            ],
            "text/plain": [
              "                id          age  ...      glucose   TenYearCHD\n",
              "count  3390.000000  3390.000000  ...  3086.000000  3390.000000\n",
              "mean   1694.500000    49.542183  ...    82.086520     0.150737\n",
              "std     978.753033     8.592878  ...    24.244753     0.357846\n",
              "min       0.000000    32.000000  ...    40.000000     0.000000\n",
              "25%     847.250000    42.000000  ...    71.000000     0.000000\n",
              "50%    1694.500000    49.000000  ...    78.000000     0.000000\n",
              "75%    2541.750000    56.000000  ...    87.000000     0.000000\n",
              "max    3389.000000    70.000000  ...   394.000000     1.000000\n",
              "\n",
              "[8 rows x 15 columns]"
            ]
          },
          "metadata": {},
          "execution_count": 5
        }
      ]
    },
    {
      "cell_type": "code",
      "metadata": {
        "colab": {
          "base_uri": "https://localhost:8080/"
        },
        "id": "tNWPhvMpsjQa",
        "outputId": "3923a8ae-b595-4f78-8b06-7def7adba6ce"
      },
      "source": [
        "d.isna().sum()"
      ],
      "execution_count": 6,
      "outputs": [
        {
          "output_type": "execute_result",
          "data": {
            "text/plain": [
              "id                   0\n",
              "age                  0\n",
              "education           87\n",
              "sex                  0\n",
              "is_smoking           0\n",
              "cigsPerDay          22\n",
              "BPMeds              44\n",
              "prevalentStroke      0\n",
              "prevalentHyp         0\n",
              "diabetes             0\n",
              "totChol             38\n",
              "sysBP                0\n",
              "diaBP                0\n",
              "BMI                 14\n",
              "heartRate            1\n",
              "glucose            304\n",
              "TenYearCHD           0\n",
              "dtype: int64"
            ]
          },
          "metadata": {},
          "execution_count": 6
        }
      ]
    },
    {
      "cell_type": "markdown",
      "metadata": {
        "id": "uXcpSX90e5a9"
      },
      "source": [
        "Id column needs to be dropped \n",
        "\n",
        "As per domain knowledge education also not related with coronary Heart Disease\n"
      ]
    },
    {
      "cell_type": "markdown",
      "metadata": {
        "id": "t7lPkGm1fhgk"
      },
      "source": [
        "\n",
        "we can drop is_smoking column as the person who is not smoking will have 0 in cigsPerDay"
      ]
    },
    {
      "cell_type": "code",
      "metadata": {
        "id": "-YfwLGOytBae"
      },
      "source": [
        "d=d.drop(['id','education','is_smoking'],axis=1)"
      ],
      "execution_count": 7,
      "outputs": []
    },
    {
      "cell_type": "code",
      "metadata": {
        "colab": {
          "base_uri": "https://localhost:8080/",
          "height": 300
        },
        "id": "lgP4MYvmgU0i",
        "outputId": "9f9d6a38-3d0c-4240-b4c7-cad1c4fe52a7"
      },
      "source": [
        "d.describe()"
      ],
      "execution_count": 8,
      "outputs": [
        {
          "output_type": "execute_result",
          "data": {
            "text/html": [
              "<div>\n",
              "<style scoped>\n",
              "    .dataframe tbody tr th:only-of-type {\n",
              "        vertical-align: middle;\n",
              "    }\n",
              "\n",
              "    .dataframe tbody tr th {\n",
              "        vertical-align: top;\n",
              "    }\n",
              "\n",
              "    .dataframe thead th {\n",
              "        text-align: right;\n",
              "    }\n",
              "</style>\n",
              "<table border=\"1\" class=\"dataframe\">\n",
              "  <thead>\n",
              "    <tr style=\"text-align: right;\">\n",
              "      <th></th>\n",
              "      <th>age</th>\n",
              "      <th>cigsPerDay</th>\n",
              "      <th>BPMeds</th>\n",
              "      <th>prevalentStroke</th>\n",
              "      <th>prevalentHyp</th>\n",
              "      <th>diabetes</th>\n",
              "      <th>totChol</th>\n",
              "      <th>sysBP</th>\n",
              "      <th>diaBP</th>\n",
              "      <th>BMI</th>\n",
              "      <th>heartRate</th>\n",
              "      <th>glucose</th>\n",
              "      <th>TenYearCHD</th>\n",
              "    </tr>\n",
              "  </thead>\n",
              "  <tbody>\n",
              "    <tr>\n",
              "      <th>count</th>\n",
              "      <td>3390.000000</td>\n",
              "      <td>3368.000000</td>\n",
              "      <td>3346.000000</td>\n",
              "      <td>3390.000000</td>\n",
              "      <td>3390.000000</td>\n",
              "      <td>3390.000000</td>\n",
              "      <td>3352.000000</td>\n",
              "      <td>3390.00000</td>\n",
              "      <td>3390.000000</td>\n",
              "      <td>3376.000000</td>\n",
              "      <td>3389.000000</td>\n",
              "      <td>3086.000000</td>\n",
              "      <td>3390.000000</td>\n",
              "    </tr>\n",
              "    <tr>\n",
              "      <th>mean</th>\n",
              "      <td>49.542183</td>\n",
              "      <td>9.069477</td>\n",
              "      <td>0.029886</td>\n",
              "      <td>0.006490</td>\n",
              "      <td>0.315339</td>\n",
              "      <td>0.025664</td>\n",
              "      <td>237.074284</td>\n",
              "      <td>132.60118</td>\n",
              "      <td>82.883038</td>\n",
              "      <td>25.794964</td>\n",
              "      <td>75.977279</td>\n",
              "      <td>82.086520</td>\n",
              "      <td>0.150737</td>\n",
              "    </tr>\n",
              "    <tr>\n",
              "      <th>std</th>\n",
              "      <td>8.592878</td>\n",
              "      <td>11.879078</td>\n",
              "      <td>0.170299</td>\n",
              "      <td>0.080309</td>\n",
              "      <td>0.464719</td>\n",
              "      <td>0.158153</td>\n",
              "      <td>45.247430</td>\n",
              "      <td>22.29203</td>\n",
              "      <td>12.023581</td>\n",
              "      <td>4.115449</td>\n",
              "      <td>11.971868</td>\n",
              "      <td>24.244753</td>\n",
              "      <td>0.357846</td>\n",
              "    </tr>\n",
              "    <tr>\n",
              "      <th>min</th>\n",
              "      <td>32.000000</td>\n",
              "      <td>0.000000</td>\n",
              "      <td>0.000000</td>\n",
              "      <td>0.000000</td>\n",
              "      <td>0.000000</td>\n",
              "      <td>0.000000</td>\n",
              "      <td>107.000000</td>\n",
              "      <td>83.50000</td>\n",
              "      <td>48.000000</td>\n",
              "      <td>15.960000</td>\n",
              "      <td>45.000000</td>\n",
              "      <td>40.000000</td>\n",
              "      <td>0.000000</td>\n",
              "    </tr>\n",
              "    <tr>\n",
              "      <th>25%</th>\n",
              "      <td>42.000000</td>\n",
              "      <td>0.000000</td>\n",
              "      <td>0.000000</td>\n",
              "      <td>0.000000</td>\n",
              "      <td>0.000000</td>\n",
              "      <td>0.000000</td>\n",
              "      <td>206.000000</td>\n",
              "      <td>117.00000</td>\n",
              "      <td>74.500000</td>\n",
              "      <td>23.020000</td>\n",
              "      <td>68.000000</td>\n",
              "      <td>71.000000</td>\n",
              "      <td>0.000000</td>\n",
              "    </tr>\n",
              "    <tr>\n",
              "      <th>50%</th>\n",
              "      <td>49.000000</td>\n",
              "      <td>0.000000</td>\n",
              "      <td>0.000000</td>\n",
              "      <td>0.000000</td>\n",
              "      <td>0.000000</td>\n",
              "      <td>0.000000</td>\n",
              "      <td>234.000000</td>\n",
              "      <td>128.50000</td>\n",
              "      <td>82.000000</td>\n",
              "      <td>25.380000</td>\n",
              "      <td>75.000000</td>\n",
              "      <td>78.000000</td>\n",
              "      <td>0.000000</td>\n",
              "    </tr>\n",
              "    <tr>\n",
              "      <th>75%</th>\n",
              "      <td>56.000000</td>\n",
              "      <td>20.000000</td>\n",
              "      <td>0.000000</td>\n",
              "      <td>0.000000</td>\n",
              "      <td>1.000000</td>\n",
              "      <td>0.000000</td>\n",
              "      <td>264.000000</td>\n",
              "      <td>144.00000</td>\n",
              "      <td>90.000000</td>\n",
              "      <td>28.040000</td>\n",
              "      <td>83.000000</td>\n",
              "      <td>87.000000</td>\n",
              "      <td>0.000000</td>\n",
              "    </tr>\n",
              "    <tr>\n",
              "      <th>max</th>\n",
              "      <td>70.000000</td>\n",
              "      <td>70.000000</td>\n",
              "      <td>1.000000</td>\n",
              "      <td>1.000000</td>\n",
              "      <td>1.000000</td>\n",
              "      <td>1.000000</td>\n",
              "      <td>696.000000</td>\n",
              "      <td>295.00000</td>\n",
              "      <td>142.500000</td>\n",
              "      <td>56.800000</td>\n",
              "      <td>143.000000</td>\n",
              "      <td>394.000000</td>\n",
              "      <td>1.000000</td>\n",
              "    </tr>\n",
              "  </tbody>\n",
              "</table>\n",
              "</div>"
            ],
            "text/plain": [
              "               age   cigsPerDay  ...      glucose   TenYearCHD\n",
              "count  3390.000000  3368.000000  ...  3086.000000  3390.000000\n",
              "mean     49.542183     9.069477  ...    82.086520     0.150737\n",
              "std       8.592878    11.879078  ...    24.244753     0.357846\n",
              "min      32.000000     0.000000  ...    40.000000     0.000000\n",
              "25%      42.000000     0.000000  ...    71.000000     0.000000\n",
              "50%      49.000000     0.000000  ...    78.000000     0.000000\n",
              "75%      56.000000    20.000000  ...    87.000000     0.000000\n",
              "max      70.000000    70.000000  ...   394.000000     1.000000\n",
              "\n",
              "[8 rows x 13 columns]"
            ]
          },
          "metadata": {},
          "execution_count": 8
        }
      ]
    },
    {
      "cell_type": "markdown",
      "metadata": {
        "id": "x-0Epo2_3Lwm"
      },
      "source": [
        "The difference between mean and median in column heartrate and bmi is small so \n",
        "we can replace null value with the column mean."
      ]
    },
    {
      "cell_type": "markdown",
      "metadata": {
        "id": "VFjShGNQhs-k"
      },
      "source": [
        "The difference between mean and median is too lage in glucose also the amount of null values also are more so we need to drop rows from column glucose containing null value\n",
        "\n"
      ]
    },
    {
      "cell_type": "code",
      "metadata": {
        "id": "6Ygm0rhN3Fne",
        "colab": {
          "base_uri": "https://localhost:8080/",
          "height": 182
        },
        "outputId": "d8ac6c98-9041-4550-833a-aed9d7ad76b2"
      },
      "source": [
        "d['heartRate'].fillna(t['heartRate'].mean(),inplace=True)\n",
        "d['BMI'].fillna(t['BMI'].mean(),inplace=True)\n"
      ],
      "execution_count": 9,
      "outputs": [
        {
          "output_type": "error",
          "ename": "NameError",
          "evalue": "ignored",
          "traceback": [
            "\u001b[0;31m---------------------------------------------------------------------------\u001b[0m",
            "\u001b[0;31mNameError\u001b[0m                                 Traceback (most recent call last)",
            "\u001b[0;32m<ipython-input-9-88c41aea542c>\u001b[0m in \u001b[0;36m<module>\u001b[0;34m()\u001b[0m\n\u001b[0;32m----> 1\u001b[0;31m \u001b[0md\u001b[0m\u001b[0;34m[\u001b[0m\u001b[0;34m'heartRate'\u001b[0m\u001b[0;34m]\u001b[0m\u001b[0;34m.\u001b[0m\u001b[0mfillna\u001b[0m\u001b[0;34m(\u001b[0m\u001b[0mt\u001b[0m\u001b[0;34m[\u001b[0m\u001b[0;34m'heartRate'\u001b[0m\u001b[0;34m]\u001b[0m\u001b[0;34m.\u001b[0m\u001b[0mmean\u001b[0m\u001b[0;34m(\u001b[0m\u001b[0;34m)\u001b[0m\u001b[0;34m,\u001b[0m\u001b[0minplace\u001b[0m\u001b[0;34m=\u001b[0m\u001b[0;32mTrue\u001b[0m\u001b[0;34m)\u001b[0m\u001b[0;34m\u001b[0m\u001b[0;34m\u001b[0m\u001b[0m\n\u001b[0m\u001b[1;32m      2\u001b[0m \u001b[0md\u001b[0m\u001b[0;34m[\u001b[0m\u001b[0;34m'BMI'\u001b[0m\u001b[0;34m]\u001b[0m\u001b[0;34m.\u001b[0m\u001b[0mfillna\u001b[0m\u001b[0;34m(\u001b[0m\u001b[0mt\u001b[0m\u001b[0;34m[\u001b[0m\u001b[0;34m'BMI'\u001b[0m\u001b[0;34m]\u001b[0m\u001b[0;34m.\u001b[0m\u001b[0mmean\u001b[0m\u001b[0;34m(\u001b[0m\u001b[0;34m)\u001b[0m\u001b[0;34m,\u001b[0m\u001b[0minplace\u001b[0m\u001b[0;34m=\u001b[0m\u001b[0;32mTrue\u001b[0m\u001b[0;34m)\u001b[0m\u001b[0;34m\u001b[0m\u001b[0;34m\u001b[0m\u001b[0m\n",
            "\u001b[0;31mNameError\u001b[0m: name 't' is not defined"
          ]
        }
      ]
    },
    {
      "cell_type": "code",
      "metadata": {
        "colab": {
          "base_uri": "https://localhost:8080/"
        },
        "id": "i5g-2s4ujM4F",
        "outputId": "d37f6345-015a-4d50-b45f-7f84621e0b71"
      },
      "source": [
        "d.dropna(axis=0,inplace=True)\n",
        "d.info()\n",
        "d.shape"
      ],
      "execution_count": 10,
      "outputs": [
        {
          "output_type": "stream",
          "name": "stdout",
          "text": [
            "<class 'pandas.core.frame.DataFrame'>\n",
            "Int64Index: 3004 entries, 1 to 3389\n",
            "Data columns (total 14 columns):\n",
            " #   Column           Non-Null Count  Dtype  \n",
            "---  ------           --------------  -----  \n",
            " 0   age              3004 non-null   int64  \n",
            " 1   sex              3004 non-null   object \n",
            " 2   cigsPerDay       3004 non-null   float64\n",
            " 3   BPMeds           3004 non-null   float64\n",
            " 4   prevalentStroke  3004 non-null   int64  \n",
            " 5   prevalentHyp     3004 non-null   int64  \n",
            " 6   diabetes         3004 non-null   int64  \n",
            " 7   totChol          3004 non-null   float64\n",
            " 8   sysBP            3004 non-null   float64\n",
            " 9   diaBP            3004 non-null   float64\n",
            " 10  BMI              3004 non-null   float64\n",
            " 11  heartRate        3004 non-null   float64\n",
            " 12  glucose          3004 non-null   float64\n",
            " 13  TenYearCHD       3004 non-null   int64  \n",
            "dtypes: float64(8), int64(5), object(1)\n",
            "memory usage: 352.0+ KB\n"
          ]
        },
        {
          "output_type": "execute_result",
          "data": {
            "text/plain": [
              "(3004, 14)"
            ]
          },
          "metadata": {},
          "execution_count": 10
        }
      ]
    },
    {
      "cell_type": "code",
      "metadata": {
        "colab": {
          "base_uri": "https://localhost:8080/"
        },
        "id": "7vZDiYBS5z4_",
        "outputId": "67cb6b0d-6047-419a-836b-7a126fd9e956"
      },
      "source": [
        "d.isna().sum()"
      ],
      "execution_count": 11,
      "outputs": [
        {
          "output_type": "execute_result",
          "data": {
            "text/plain": [
              "age                0\n",
              "sex                0\n",
              "cigsPerDay         0\n",
              "BPMeds             0\n",
              "prevalentStroke    0\n",
              "prevalentHyp       0\n",
              "diabetes           0\n",
              "totChol            0\n",
              "sysBP              0\n",
              "diaBP              0\n",
              "BMI                0\n",
              "heartRate          0\n",
              "glucose            0\n",
              "TenYearCHD         0\n",
              "dtype: int64"
            ]
          },
          "metadata": {},
          "execution_count": 11
        }
      ]
    },
    {
      "cell_type": "markdown",
      "metadata": {
        "id": "_q-c7t-ViqJK"
      },
      "source": [
        "No Null Data present"
      ]
    },
    {
      "cell_type": "markdown",
      "metadata": {
        "id": "p97oL3fR-uAN"
      },
      "source": [
        "\n",
        "\n",
        "*   **Exploratory Data Analysis and Feature Engineering**\n",
        "\n"
      ]
    },
    {
      "cell_type": "code",
      "metadata": {
        "colab": {
          "base_uri": "https://localhost:8080/"
        },
        "id": "9QTVDZTo-sRe",
        "outputId": "8fab9f50-19a0-4cce-f30f-3612252b44e4"
      },
      "source": [
        "t=d['TenYearCHD'].value_counts()\n",
        "t"
      ],
      "execution_count": 12,
      "outputs": [
        {
          "output_type": "execute_result",
          "data": {
            "text/plain": [
              "0    2547\n",
              "1     457\n",
              "Name: TenYearCHD, dtype: int64"
            ]
          },
          "metadata": {},
          "execution_count": 12
        }
      ]
    },
    {
      "cell_type": "code",
      "metadata": {
        "colab": {
          "base_uri": "https://localhost:8080/",
          "height": 334
        },
        "id": "ClXOLov4ABlV",
        "outputId": "e7d3589a-e44a-4bf3-97b9-31e543f722b3"
      },
      "source": [
        "t=d['TenYearCHD'].value_counts()\n",
        "x=t.index\n",
        "y=(t/t.sum())*100\n",
        "ax=sns.barplot(x,y)\n",
        "ax.set(xlabel='Coronary Heart disease? 0=No', ylabel=\"%\")\n",
        "plt.show()"
      ],
      "execution_count": 13,
      "outputs": [
        {
          "output_type": "stream",
          "name": "stderr",
          "text": [
            "/usr/local/lib/python3.7/dist-packages/seaborn/_decorators.py:43: FutureWarning: Pass the following variables as keyword args: x, y. From version 0.12, the only valid positional argument will be `data`, and passing other arguments without an explicit keyword will result in an error or misinterpretation.\n",
            "  FutureWarning\n"
          ]
        },
        {
          "output_type": "display_data",
          "data": {
            "image/png": "[encoded data removed]",
            "text/plain": [
              "<Figure size 432x288 with 1 Axes>"
            ]
          },
          "metadata": {
            "needs_background": "light"
          }
        }
      ]
    },
    {
      "cell_type": "markdown",
      "metadata": {
        "id": "3eqBTMLbAWU7"
      },
      "source": [
        "EDA for Diabetes Column"
      ]
    },
    {
      "cell_type": "code",
      "metadata": {
        "colab": {
          "base_uri": "https://localhost:8080/",
          "height": 334
        },
        "id": "-uaBbOHnAayd",
        "outputId": "a5f1d6d7-d614-4e1c-f1c4-90ece922678a"
      },
      "source": [
        "t=d['diabetes'].value_counts()\n",
        "x=t.index\n",
        "y=(t/t.sum())*100\n",
        "#plt.figure(figsize=(20,10))\n",
        "ax=sns.barplot(x,y)\n",
        "ax.set(xlabel='Diabetes ? 0=No', ylabel=\"%\")\n",
        "plt.show()"
      ],
      "execution_count": 14,
      "outputs": [
        {
          "output_type": "stream",
          "name": "stderr",
          "text": [
            "/usr/local/lib/python3.7/dist-packages/seaborn/_decorators.py:43: FutureWarning: Pass the following variables as keyword args: x, y. From version 0.12, the only valid positional argument will be `data`, and passing other arguments without an explicit keyword will result in an error or misinterpretation.\n",
            "  FutureWarning\n"
          ]
        },
        {
          "output_type": "display_data",
          "data": {
            "image/png": "[encoded data removed]",
            "text/plain": [
              "<Figure size 432x288 with 1 Axes>"
            ]
          },
          "metadata": {
            "needs_background": "light"
          }
        }
      ]
    },
    {
      "cell_type": "code",
      "metadata": {
        "colab": {
          "base_uri": "https://localhost:8080/"
        },
        "id": "oLSiUquRBw3z",
        "outputId": "f9117ba2-a9b2-483a-d50f-753e4d95199d"
      },
      "source": [
        "t=d.groupby('cigsPerDay')['TenYearCHD'].sum()\n",
        "t"
      ],
      "execution_count": 31,
      "outputs": [
        {
          "output_type": "execute_result",
          "data": {
            "text/plain": [
              "cigsPerDay\n",
              "0.0     211\n",
              "1.0       7\n",
              "2.0       2\n",
              "3.0       8\n",
              "4.0       0\n",
              "5.0      12\n",
              "6.0       3\n",
              "7.0       3\n",
              "8.0       0\n",
              "9.0       7\n",
              "10.0     14\n",
              "11.0      1\n",
              "12.0      1\n",
              "13.0      0\n",
              "15.0     23\n",
              "16.0      0\n",
              "17.0      0\n",
              "18.0      2\n",
              "19.0      0\n",
              "20.0     94\n",
              "23.0      1\n",
              "25.0      8\n",
              "30.0     29\n",
              "35.0      3\n",
              "38.0      0\n",
              "40.0     15\n",
              "43.0     11\n",
              "45.0      0\n",
              "50.0      1\n",
              "60.0      1\n",
              "70.0      0\n",
              "Name: TenYearCHD, dtype: int64"
            ]
          },
          "metadata": {},
          "execution_count": 31
        }
      ]
    },
    {
      "cell_type": "code",
      "metadata": {
        "colab": {
          "base_uri": "https://localhost:8080/",
          "height": 501
        },
        "id": "3HEgqdsdghS6",
        "outputId": "9549cbab-3d9e-415f-93f8-9856ac765cea"
      },
      "source": [
        "co=t.corr()\n",
        "plt.figure(figsize=(7,7))\n",
        "g=sns.heatmap(t.corr(),annot=True)"
      ],
      "execution_count": null,
      "outputs": [
        {
          "data": {
            "image/png": "[encoded data removed]",
            "text/plain": [
              "<Figure size 504x504 with 2 Axes>"
            ]
          },
          "metadata": {},
          "output_type": "display_data"
        }
      ]
    },
    {
      "cell_type": "markdown",
      "metadata": {
        "id": "WzqWsJHMEaLP"
      },
      "source": [
        "columns sysBp and diaBp have high correlation so we can merge the two column into a single column and then drop both the columns"
      ]
    },
    {
      "cell_type": "code",
      "metadata": {
        "colab": {
          "base_uri": "https://localhost:8080/",
          "height": 417
        },
        "id": "2Wr0nRXeiSpM",
        "outputId": "d363543e-4530-4352-a823-9fef750ad22e"
      },
      "source": [
        "t['Bp']=t['diaBP']+t['sysBP']\n",
        "t"
      ],
      "execution_count": null,
      "outputs": [
        {
          "data": {
            "text/html": [
              "<div>\n",
              "<style scoped>\n",
              "    .dataframe tbody tr th:only-of-type {\n",
              "        vertical-align: middle;\n",
              "    }\n",
              "\n",
              "    .dataframe tbody tr th {\n",
              "        vertical-align: top;\n",
              "    }\n",
              "\n",
              "    .dataframe thead th {\n",
              "        text-align: right;\n",
              "    }\n",
              "</style>\n",
              "<table border=\"1\" class=\"dataframe\">\n",
              "  <thead>\n",
              "    <tr style=\"text-align: right;\">\n",
              "      <th></th>\n",
              "      <th>age</th>\n",
              "      <th>sex</th>\n",
              "      <th>cigsPerDay</th>\n",
              "      <th>BPMeds</th>\n",
              "      <th>prevalentStroke</th>\n",
              "      <th>prevalentHyp</th>\n",
              "      <th>diabetes</th>\n",
              "      <th>totChol</th>\n",
              "      <th>sysBP</th>\n",
              "      <th>diaBP</th>\n",
              "      <th>BMI</th>\n",
              "      <th>heartRate</th>\n",
              "      <th>glucose</th>\n",
              "      <th>TenYearCHD</th>\n",
              "      <th>Bp</th>\n",
              "    </tr>\n",
              "  </thead>\n",
              "  <tbody>\n",
              "    <tr>\n",
              "      <th>0</th>\n",
              "      <td>64</td>\n",
              "      <td>F</td>\n",
              "      <td>3.0</td>\n",
              "      <td>0.0</td>\n",
              "      <td>0</td>\n",
              "      <td>0</td>\n",
              "      <td>0</td>\n",
              "      <td>221.0</td>\n",
              "      <td>148.0</td>\n",
              "      <td>85.0</td>\n",
              "      <td>25.794964</td>\n",
              "      <td>90.0</td>\n",
              "      <td>80.0</td>\n",
              "      <td>1</td>\n",
              "      <td>233.0</td>\n",
              "    </tr>\n",
              "    <tr>\n",
              "      <th>1</th>\n",
              "      <td>36</td>\n",
              "      <td>M</td>\n",
              "      <td>0.0</td>\n",
              "      <td>0.0</td>\n",
              "      <td>0</td>\n",
              "      <td>1</td>\n",
              "      <td>0</td>\n",
              "      <td>212.0</td>\n",
              "      <td>168.0</td>\n",
              "      <td>98.0</td>\n",
              "      <td>29.770000</td>\n",
              "      <td>72.0</td>\n",
              "      <td>75.0</td>\n",
              "      <td>0</td>\n",
              "      <td>266.0</td>\n",
              "    </tr>\n",
              "    <tr>\n",
              "      <th>2</th>\n",
              "      <td>46</td>\n",
              "      <td>F</td>\n",
              "      <td>10.0</td>\n",
              "      <td>0.0</td>\n",
              "      <td>0</td>\n",
              "      <td>0</td>\n",
              "      <td>0</td>\n",
              "      <td>250.0</td>\n",
              "      <td>116.0</td>\n",
              "      <td>71.0</td>\n",
              "      <td>20.350000</td>\n",
              "      <td>88.0</td>\n",
              "      <td>94.0</td>\n",
              "      <td>0</td>\n",
              "      <td>187.0</td>\n",
              "    </tr>\n",
              "    <tr>\n",
              "      <th>3</th>\n",
              "      <td>50</td>\n",
              "      <td>M</td>\n",
              "      <td>20.0</td>\n",
              "      <td>0.0</td>\n",
              "      <td>0</td>\n",
              "      <td>1</td>\n",
              "      <td>0</td>\n",
              "      <td>233.0</td>\n",
              "      <td>158.0</td>\n",
              "      <td>88.0</td>\n",
              "      <td>28.260000</td>\n",
              "      <td>68.0</td>\n",
              "      <td>94.0</td>\n",
              "      <td>1</td>\n",
              "      <td>246.0</td>\n",
              "    </tr>\n",
              "    <tr>\n",
              "      <th>4</th>\n",
              "      <td>64</td>\n",
              "      <td>F</td>\n",
              "      <td>30.0</td>\n",
              "      <td>0.0</td>\n",
              "      <td>0</td>\n",
              "      <td>0</td>\n",
              "      <td>0</td>\n",
              "      <td>241.0</td>\n",
              "      <td>136.5</td>\n",
              "      <td>85.0</td>\n",
              "      <td>26.420000</td>\n",
              "      <td>70.0</td>\n",
              "      <td>77.0</td>\n",
              "      <td>0</td>\n",
              "      <td>221.5</td>\n",
              "    </tr>\n",
              "    <tr>\n",
              "      <th>...</th>\n",
              "      <td>...</td>\n",
              "      <td>...</td>\n",
              "      <td>...</td>\n",
              "      <td>...</td>\n",
              "      <td>...</td>\n",
              "      <td>...</td>\n",
              "      <td>...</td>\n",
              "      <td>...</td>\n",
              "      <td>...</td>\n",
              "      <td>...</td>\n",
              "      <td>...</td>\n",
              "      <td>...</td>\n",
              "      <td>...</td>\n",
              "      <td>...</td>\n",
              "      <td>...</td>\n",
              "    </tr>\n",
              "    <tr>\n",
              "      <th>3384</th>\n",
              "      <td>61</td>\n",
              "      <td>F</td>\n",
              "      <td>0.0</td>\n",
              "      <td>0.0</td>\n",
              "      <td>0</td>\n",
              "      <td>1</td>\n",
              "      <td>0</td>\n",
              "      <td>217.0</td>\n",
              "      <td>182.0</td>\n",
              "      <td>86.0</td>\n",
              "      <td>26.980000</td>\n",
              "      <td>105.0</td>\n",
              "      <td>113.0</td>\n",
              "      <td>0</td>\n",
              "      <td>268.0</td>\n",
              "    </tr>\n",
              "    <tr>\n",
              "      <th>3385</th>\n",
              "      <td>60</td>\n",
              "      <td>F</td>\n",
              "      <td>0.0</td>\n",
              "      <td>0.0</td>\n",
              "      <td>0</td>\n",
              "      <td>0</td>\n",
              "      <td>0</td>\n",
              "      <td>261.0</td>\n",
              "      <td>123.5</td>\n",
              "      <td>79.0</td>\n",
              "      <td>29.280000</td>\n",
              "      <td>70.0</td>\n",
              "      <td>103.0</td>\n",
              "      <td>0</td>\n",
              "      <td>202.5</td>\n",
              "    </tr>\n",
              "    <tr>\n",
              "      <th>3386</th>\n",
              "      <td>46</td>\n",
              "      <td>F</td>\n",
              "      <td>0.0</td>\n",
              "      <td>0.0</td>\n",
              "      <td>0</td>\n",
              "      <td>0</td>\n",
              "      <td>0</td>\n",
              "      <td>199.0</td>\n",
              "      <td>102.0</td>\n",
              "      <td>56.0</td>\n",
              "      <td>21.960000</td>\n",
              "      <td>80.0</td>\n",
              "      <td>84.0</td>\n",
              "      <td>0</td>\n",
              "      <td>158.0</td>\n",
              "    </tr>\n",
              "    <tr>\n",
              "      <th>3387</th>\n",
              "      <td>44</td>\n",
              "      <td>M</td>\n",
              "      <td>3.0</td>\n",
              "      <td>0.0</td>\n",
              "      <td>0</td>\n",
              "      <td>1</td>\n",
              "      <td>0</td>\n",
              "      <td>352.0</td>\n",
              "      <td>164.0</td>\n",
              "      <td>119.0</td>\n",
              "      <td>28.920000</td>\n",
              "      <td>73.0</td>\n",
              "      <td>72.0</td>\n",
              "      <td>1</td>\n",
              "      <td>283.0</td>\n",
              "    </tr>\n",
              "    <tr>\n",
              "      <th>3389</th>\n",
              "      <td>54</td>\n",
              "      <td>F</td>\n",
              "      <td>0.0</td>\n",
              "      <td>0.0</td>\n",
              "      <td>0</td>\n",
              "      <td>0</td>\n",
              "      <td>0</td>\n",
              "      <td>288.0</td>\n",
              "      <td>124.0</td>\n",
              "      <td>77.0</td>\n",
              "      <td>29.880000</td>\n",
              "      <td>79.0</td>\n",
              "      <td>92.0</td>\n",
              "      <td>0</td>\n",
              "      <td>201.0</td>\n",
              "    </tr>\n",
              "  </tbody>\n",
              "</table>\n",
              "<p>3016 rows × 15 columns</p>\n",
              "</div>"
            ],
            "text/plain": [
              "      age sex  cigsPerDay  BPMeds  ...  heartRate  glucose  TenYearCHD     Bp\n",
              "0      64   F         3.0     0.0  ...       90.0     80.0           1  233.0\n",
              "1      36   M         0.0     0.0  ...       72.0     75.0           0  266.0\n",
              "2      46   F        10.0     0.0  ...       88.0     94.0           0  187.0\n",
              "3      50   M        20.0     0.0  ...       68.0     94.0           1  246.0\n",
              "4      64   F        30.0     0.0  ...       70.0     77.0           0  221.5\n",
              "...   ...  ..         ...     ...  ...        ...      ...         ...    ...\n",
              "3384   61   F         0.0     0.0  ...      105.0    113.0           0  268.0\n",
              "3385   60   F         0.0     0.0  ...       70.0    103.0           0  202.5\n",
              "3386   46   F         0.0     0.0  ...       80.0     84.0           0  158.0\n",
              "3387   44   M         3.0     0.0  ...       73.0     72.0           1  283.0\n",
              "3389   54   F         0.0     0.0  ...       79.0     92.0           0  201.0\n",
              "\n",
              "[3016 rows x 15 columns]"
            ]
          },
          "execution_count": 13,
          "metadata": {},
          "output_type": "execute_result"
        }
      ]
    },
    {
      "cell_type": "code",
      "metadata": {
        "colab": {
          "base_uri": "https://localhost:8080/",
          "height": 417
        },
        "id": "I6GG3dGcrvog",
        "outputId": "002ca2b8-c6cb-48ab-c99f-7e528fd39e4c"
      },
      "source": [
        "t=t.drop(['sysBP','diaBP'],axis=1)\n",
        "t"
      ],
      "execution_count": null,
      "outputs": [
        {
          "data": {
            "text/html": [
              "<div>\n",
              "<style scoped>\n",
              "    .dataframe tbody tr th:only-of-type {\n",
              "        vertical-align: middle;\n",
              "    }\n",
              "\n",
              "    .dataframe tbody tr th {\n",
              "        vertical-align: top;\n",
              "    }\n",
              "\n",
              "    .dataframe thead th {\n",
              "        text-align: right;\n",
              "    }\n",
              "</style>\n",
              "<table border=\"1\" class=\"dataframe\">\n",
              "  <thead>\n",
              "    <tr style=\"text-align: right;\">\n",
              "      <th></th>\n",
              "      <th>age</th>\n",
              "      <th>sex</th>\n",
              "      <th>cigsPerDay</th>\n",
              "      <th>BPMeds</th>\n",
              "      <th>prevalentStroke</th>\n",
              "      <th>prevalentHyp</th>\n",
              "      <th>diabetes</th>\n",
              "      <th>totChol</th>\n",
              "      <th>BMI</th>\n",
              "      <th>heartRate</th>\n",
              "      <th>glucose</th>\n",
              "      <th>TenYearCHD</th>\n",
              "      <th>Bp</th>\n",
              "    </tr>\n",
              "  </thead>\n",
              "  <tbody>\n",
              "    <tr>\n",
              "      <th>0</th>\n",
              "      <td>64</td>\n",
              "      <td>F</td>\n",
              "      <td>3.0</td>\n",
              "      <td>0.0</td>\n",
              "      <td>0</td>\n",
              "      <td>0</td>\n",
              "      <td>0</td>\n",
              "      <td>221.0</td>\n",
              "      <td>25.794964</td>\n",
              "      <td>90.0</td>\n",
              "      <td>80.0</td>\n",
              "      <td>1</td>\n",
              "      <td>233.0</td>\n",
              "    </tr>\n",
              "    <tr>\n",
              "      <th>1</th>\n",
              "      <td>36</td>\n",
              "      <td>M</td>\n",
              "      <td>0.0</td>\n",
              "      <td>0.0</td>\n",
              "      <td>0</td>\n",
              "      <td>1</td>\n",
              "      <td>0</td>\n",
              "      <td>212.0</td>\n",
              "      <td>29.770000</td>\n",
              "      <td>72.0</td>\n",
              "      <td>75.0</td>\n",
              "      <td>0</td>\n",
              "      <td>266.0</td>\n",
              "    </tr>\n",
              "    <tr>\n",
              "      <th>2</th>\n",
              "      <td>46</td>\n",
              "      <td>F</td>\n",
              "      <td>10.0</td>\n",
              "      <td>0.0</td>\n",
              "      <td>0</td>\n",
              "      <td>0</td>\n",
              "      <td>0</td>\n",
              "      <td>250.0</td>\n",
              "      <td>20.350000</td>\n",
              "      <td>88.0</td>\n",
              "      <td>94.0</td>\n",
              "      <td>0</td>\n",
              "      <td>187.0</td>\n",
              "    </tr>\n",
              "    <tr>\n",
              "      <th>3</th>\n",
              "      <td>50</td>\n",
              "      <td>M</td>\n",
              "      <td>20.0</td>\n",
              "      <td>0.0</td>\n",
              "      <td>0</td>\n",
              "      <td>1</td>\n",
              "      <td>0</td>\n",
              "      <td>233.0</td>\n",
              "      <td>28.260000</td>\n",
              "      <td>68.0</td>\n",
              "      <td>94.0</td>\n",
              "      <td>1</td>\n",
              "      <td>246.0</td>\n",
              "    </tr>\n",
              "    <tr>\n",
              "      <th>4</th>\n",
              "      <td>64</td>\n",
              "      <td>F</td>\n",
              "      <td>30.0</td>\n",
              "      <td>0.0</td>\n",
              "      <td>0</td>\n",
              "      <td>0</td>\n",
              "      <td>0</td>\n",
              "      <td>241.0</td>\n",
              "      <td>26.420000</td>\n",
              "      <td>70.0</td>\n",
              "      <td>77.0</td>\n",
              "      <td>0</td>\n",
              "      <td>221.5</td>\n",
              "    </tr>\n",
              "    <tr>\n",
              "      <th>...</th>\n",
              "      <td>...</td>\n",
              "      <td>...</td>\n",
              "      <td>...</td>\n",
              "      <td>...</td>\n",
              "      <td>...</td>\n",
              "      <td>...</td>\n",
              "      <td>...</td>\n",
              "      <td>...</td>\n",
              "      <td>...</td>\n",
              "      <td>...</td>\n",
              "      <td>...</td>\n",
              "      <td>...</td>\n",
              "      <td>...</td>\n",
              "    </tr>\n",
              "    <tr>\n",
              "      <th>3384</th>\n",
              "      <td>61</td>\n",
              "      <td>F</td>\n",
              "      <td>0.0</td>\n",
              "      <td>0.0</td>\n",
              "      <td>0</td>\n",
              "      <td>1</td>\n",
              "      <td>0</td>\n",
              "      <td>217.0</td>\n",
              "      <td>26.980000</td>\n",
              "      <td>105.0</td>\n",
              "      <td>113.0</td>\n",
              "      <td>0</td>\n",
              "      <td>268.0</td>\n",
              "    </tr>\n",
              "    <tr>\n",
              "      <th>3385</th>\n",
              "      <td>60</td>\n",
              "      <td>F</td>\n",
              "      <td>0.0</td>\n",
              "      <td>0.0</td>\n",
              "      <td>0</td>\n",
              "      <td>0</td>\n",
              "      <td>0</td>\n",
              "      <td>261.0</td>\n",
              "      <td>29.280000</td>\n",
              "      <td>70.0</td>\n",
              "      <td>103.0</td>\n",
              "      <td>0</td>\n",
              "      <td>202.5</td>\n",
              "    </tr>\n",
              "    <tr>\n",
              "      <th>3386</th>\n",
              "      <td>46</td>\n",
              "      <td>F</td>\n",
              "      <td>0.0</td>\n",
              "      <td>0.0</td>\n",
              "      <td>0</td>\n",
              "      <td>0</td>\n",
              "      <td>0</td>\n",
              "      <td>199.0</td>\n",
              "      <td>21.960000</td>\n",
              "      <td>80.0</td>\n",
              "      <td>84.0</td>\n",
              "      <td>0</td>\n",
              "      <td>158.0</td>\n",
              "    </tr>\n",
              "    <tr>\n",
              "      <th>3387</th>\n",
              "      <td>44</td>\n",
              "      <td>M</td>\n",
              "      <td>3.0</td>\n",
              "      <td>0.0</td>\n",
              "      <td>0</td>\n",
              "      <td>1</td>\n",
              "      <td>0</td>\n",
              "      <td>352.0</td>\n",
              "      <td>28.920000</td>\n",
              "      <td>73.0</td>\n",
              "      <td>72.0</td>\n",
              "      <td>1</td>\n",
              "      <td>283.0</td>\n",
              "    </tr>\n",
              "    <tr>\n",
              "      <th>3389</th>\n",
              "      <td>54</td>\n",
              "      <td>F</td>\n",
              "      <td>0.0</td>\n",
              "      <td>0.0</td>\n",
              "      <td>0</td>\n",
              "      <td>0</td>\n",
              "      <td>0</td>\n",
              "      <td>288.0</td>\n",
              "      <td>29.880000</td>\n",
              "      <td>79.0</td>\n",
              "      <td>92.0</td>\n",
              "      <td>0</td>\n",
              "      <td>201.0</td>\n",
              "    </tr>\n",
              "  </tbody>\n",
              "</table>\n",
              "<p>3016 rows × 13 columns</p>\n",
              "</div>"
            ],
            "text/plain": [
              "      age sex  cigsPerDay  BPMeds  ...  heartRate  glucose  TenYearCHD     Bp\n",
              "0      64   F         3.0     0.0  ...       90.0     80.0           1  233.0\n",
              "1      36   M         0.0     0.0  ...       72.0     75.0           0  266.0\n",
              "2      46   F        10.0     0.0  ...       88.0     94.0           0  187.0\n",
              "3      50   M        20.0     0.0  ...       68.0     94.0           1  246.0\n",
              "4      64   F        30.0     0.0  ...       70.0     77.0           0  221.5\n",
              "...   ...  ..         ...     ...  ...        ...      ...         ...    ...\n",
              "3384   61   F         0.0     0.0  ...      105.0    113.0           0  268.0\n",
              "3385   60   F         0.0     0.0  ...       70.0    103.0           0  202.5\n",
              "3386   46   F         0.0     0.0  ...       80.0     84.0           0  158.0\n",
              "3387   44   M         3.0     0.0  ...       73.0     72.0           1  283.0\n",
              "3389   54   F         0.0     0.0  ...       79.0     92.0           0  201.0\n",
              "\n",
              "[3016 rows x 13 columns]"
            ]
          },
          "execution_count": 14,
          "metadata": {},
          "output_type": "execute_result"
        }
      ]
    },
    {
      "cell_type": "code",
      "metadata": {
        "colab": {
          "base_uri": "https://localhost:8080/",
          "height": 501
        },
        "id": "Lm5NgKcwsdkn",
        "outputId": "abbd0337-10ca-46d5-ef6c-499a49819176"
      },
      "source": [
        "co=t.corr()\n",
        "plt.figure(figsize=(7,7))\n",
        "g=sns.heatmap(t.corr(),annot=True)"
      ],
      "execution_count": null,
      "outputs": [
        {
          "data": {
            "image/png": "[encoded data removed]",
            "text/plain": [
              "<Figure size 504x504 with 2 Axes>"
            ]
          },
          "metadata": {},
          "output_type": "display_data"
        }
      ]
    },
    {
      "cell_type": "markdown",
      "metadata": {
        "id": "etNG3tDDx_v3"
      },
      "source": [
        "Converting categorical feature Sex int numerical for model building using dummies"
      ]
    },
    {
      "cell_type": "code",
      "metadata": {
        "colab": {
          "base_uri": "https://localhost:8080/",
          "height": 417
        },
        "id": "MGDfuxkDtzcg",
        "outputId": "2508b580-0d03-4942-c8fb-fda884bb16ea"
      },
      "source": [
        "dat=pd.get_dummies(t,drop_first=True)\n",
        "dat"
      ],
      "execution_count": null,
      "outputs": [
        {
          "data": {
            "text/html": [
              "<div>\n",
              "<style scoped>\n",
              "    .dataframe tbody tr th:only-of-type {\n",
              "        vertical-align: middle;\n",
              "    }\n",
              "\n",
              "    .dataframe tbody tr th {\n",
              "        vertical-align: top;\n",
              "    }\n",
              "\n",
              "    .dataframe thead th {\n",
              "        text-align: right;\n",
              "    }\n",
              "</style>\n",
              "<table border=\"1\" class=\"dataframe\">\n",
              "  <thead>\n",
              "    <tr style=\"text-align: right;\">\n",
              "      <th></th>\n",
              "      <th>age</th>\n",
              "      <th>cigsPerDay</th>\n",
              "      <th>BPMeds</th>\n",
              "      <th>prevalentStroke</th>\n",
              "      <th>prevalentHyp</th>\n",
              "      <th>diabetes</th>\n",
              "      <th>totChol</th>\n",
              "      <th>BMI</th>\n",
              "      <th>heartRate</th>\n",
              "      <th>glucose</th>\n",
              "      <th>TenYearCHD</th>\n",
              "      <th>Bp</th>\n",
              "      <th>sex_M</th>\n",
              "    </tr>\n",
              "  </thead>\n",
              "  <tbody>\n",
              "    <tr>\n",
              "      <th>0</th>\n",
              "      <td>64</td>\n",
              "      <td>3.0</td>\n",
              "      <td>0.0</td>\n",
              "      <td>0</td>\n",
              "      <td>0</td>\n",
              "      <td>0</td>\n",
              "      <td>221.0</td>\n",
              "      <td>25.794964</td>\n",
              "      <td>90.0</td>\n",
              "      <td>80.0</td>\n",
              "      <td>1</td>\n",
              "      <td>233.0</td>\n",
              "      <td>0</td>\n",
              "    </tr>\n",
              "    <tr>\n",
              "      <th>1</th>\n",
              "      <td>36</td>\n",
              "      <td>0.0</td>\n",
              "      <td>0.0</td>\n",
              "      <td>0</td>\n",
              "      <td>1</td>\n",
              "      <td>0</td>\n",
              "      <td>212.0</td>\n",
              "      <td>29.770000</td>\n",
              "      <td>72.0</td>\n",
              "      <td>75.0</td>\n",
              "      <td>0</td>\n",
              "      <td>266.0</td>\n",
              "      <td>1</td>\n",
              "    </tr>\n",
              "    <tr>\n",
              "      <th>2</th>\n",
              "      <td>46</td>\n",
              "      <td>10.0</td>\n",
              "      <td>0.0</td>\n",
              "      <td>0</td>\n",
              "      <td>0</td>\n",
              "      <td>0</td>\n",
              "      <td>250.0</td>\n",
              "      <td>20.350000</td>\n",
              "      <td>88.0</td>\n",
              "      <td>94.0</td>\n",
              "      <td>0</td>\n",
              "      <td>187.0</td>\n",
              "      <td>0</td>\n",
              "    </tr>\n",
              "    <tr>\n",
              "      <th>3</th>\n",
              "      <td>50</td>\n",
              "      <td>20.0</td>\n",
              "      <td>0.0</td>\n",
              "      <td>0</td>\n",
              "      <td>1</td>\n",
              "      <td>0</td>\n",
              "      <td>233.0</td>\n",
              "      <td>28.260000</td>\n",
              "      <td>68.0</td>\n",
              "      <td>94.0</td>\n",
              "      <td>1</td>\n",
              "      <td>246.0</td>\n",
              "      <td>1</td>\n",
              "    </tr>\n",
              "    <tr>\n",
              "      <th>4</th>\n",
              "      <td>64</td>\n",
              "      <td>30.0</td>\n",
              "      <td>0.0</td>\n",
              "      <td>0</td>\n",
              "      <td>0</td>\n",
              "      <td>0</td>\n",
              "      <td>241.0</td>\n",
              "      <td>26.420000</td>\n",
              "      <td>70.0</td>\n",
              "      <td>77.0</td>\n",
              "      <td>0</td>\n",
              "      <td>221.5</td>\n",
              "      <td>0</td>\n",
              "    </tr>\n",
              "    <tr>\n",
              "      <th>...</th>\n",
              "      <td>...</td>\n",
              "      <td>...</td>\n",
              "      <td>...</td>\n",
              "      <td>...</td>\n",
              "      <td>...</td>\n",
              "      <td>...</td>\n",
              "      <td>...</td>\n",
              "      <td>...</td>\n",
              "      <td>...</td>\n",
              "      <td>...</td>\n",
              "      <td>...</td>\n",
              "      <td>...</td>\n",
              "      <td>...</td>\n",
              "    </tr>\n",
              "    <tr>\n",
              "      <th>3384</th>\n",
              "      <td>61</td>\n",
              "      <td>0.0</td>\n",
              "      <td>0.0</td>\n",
              "      <td>0</td>\n",
              "      <td>1</td>\n",
              "      <td>0</td>\n",
              "      <td>217.0</td>\n",
              "      <td>26.980000</td>\n",
              "      <td>105.0</td>\n",
              "      <td>113.0</td>\n",
              "      <td>0</td>\n",
              "      <td>268.0</td>\n",
              "      <td>0</td>\n",
              "    </tr>\n",
              "    <tr>\n",
              "      <th>3385</th>\n",
              "      <td>60</td>\n",
              "      <td>0.0</td>\n",
              "      <td>0.0</td>\n",
              "      <td>0</td>\n",
              "      <td>0</td>\n",
              "      <td>0</td>\n",
              "      <td>261.0</td>\n",
              "      <td>29.280000</td>\n",
              "      <td>70.0</td>\n",
              "      <td>103.0</td>\n",
              "      <td>0</td>\n",
              "      <td>202.5</td>\n",
              "      <td>0</td>\n",
              "    </tr>\n",
              "    <tr>\n",
              "      <th>3386</th>\n",
              "      <td>46</td>\n",
              "      <td>0.0</td>\n",
              "      <td>0.0</td>\n",
              "      <td>0</td>\n",
              "      <td>0</td>\n",
              "      <td>0</td>\n",
              "      <td>199.0</td>\n",
              "      <td>21.960000</td>\n",
              "      <td>80.0</td>\n",
              "      <td>84.0</td>\n",
              "      <td>0</td>\n",
              "      <td>158.0</td>\n",
              "      <td>0</td>\n",
              "    </tr>\n",
              "    <tr>\n",
              "      <th>3387</th>\n",
              "      <td>44</td>\n",
              "      <td>3.0</td>\n",
              "      <td>0.0</td>\n",
              "      <td>0</td>\n",
              "      <td>1</td>\n",
              "      <td>0</td>\n",
              "      <td>352.0</td>\n",
              "      <td>28.920000</td>\n",
              "      <td>73.0</td>\n",
              "      <td>72.0</td>\n",
              "      <td>1</td>\n",
              "      <td>283.0</td>\n",
              "      <td>1</td>\n",
              "    </tr>\n",
              "    <tr>\n",
              "      <th>3389</th>\n",
              "      <td>54</td>\n",
              "      <td>0.0</td>\n",
              "      <td>0.0</td>\n",
              "      <td>0</td>\n",
              "      <td>0</td>\n",
              "      <td>0</td>\n",
              "      <td>288.0</td>\n",
              "      <td>29.880000</td>\n",
              "      <td>79.0</td>\n",
              "      <td>92.0</td>\n",
              "      <td>0</td>\n",
              "      <td>201.0</td>\n",
              "      <td>0</td>\n",
              "    </tr>\n",
              "  </tbody>\n",
              "</table>\n",
              "<p>3016 rows × 13 columns</p>\n",
              "</div>"
            ],
            "text/plain": [
              "      age  cigsPerDay  BPMeds  ...  TenYearCHD     Bp  sex_M\n",
              "0      64         3.0     0.0  ...           1  233.0      0\n",
              "1      36         0.0     0.0  ...           0  266.0      1\n",
              "2      46        10.0     0.0  ...           0  187.0      0\n",
              "3      50        20.0     0.0  ...           1  246.0      1\n",
              "4      64        30.0     0.0  ...           0  221.5      0\n",
              "...   ...         ...     ...  ...         ...    ...    ...\n",
              "3384   61         0.0     0.0  ...           0  268.0      0\n",
              "3385   60         0.0     0.0  ...           0  202.5      0\n",
              "3386   46         0.0     0.0  ...           0  158.0      0\n",
              "3387   44         3.0     0.0  ...           1  283.0      1\n",
              "3389   54         0.0     0.0  ...           0  201.0      0\n",
              "\n",
              "[3016 rows x 13 columns]"
            ]
          },
          "execution_count": 16,
          "metadata": {},
          "output_type": "execute_result"
        }
      ]
    },
    {
      "cell_type": "markdown",
      "metadata": {
        "id": "b-LpUgM9zvTu"
      },
      "source": [
        "The data is now ready for model building \n",
        "\n",
        "spliting the data for training and testing"
      ]
    },
    {
      "cell_type": "code",
      "metadata": {
        "id": "88tgkz9FylLM"
      },
      "source": [
        "x=dat.drop(['TenYearCHD'],axis=1)\n",
        "y=dat['TenYearCHD']"
      ],
      "execution_count": null,
      "outputs": []
    },
    {
      "cell_type": "code",
      "metadata": {
        "id": "n7d5mJPU40nJ"
      },
      "source": [
        "from sklearn.model_selection import train_test_split\n",
        "train_x,val_x,train_y,val_y=train_test_split(x,y,test_size=0.2)"
      ],
      "execution_count": null,
      "outputs": []
    },
    {
      "cell_type": "markdown",
      "metadata": {
        "id": "8prPXzZG45bl"
      },
      "source": [
        "**Model Building**"
      ]
    },
    {
      "cell_type": "code",
      "metadata": {
        "id": "QsVbMfzw43s-"
      },
      "source": [
        "from sklearn.linear_model import LogisticRegression\n",
        "from sklearn.tree import DecisionTreeClassifier\n",
        "from sklearn.ensemble import RandomForestClassifier\n",
        "from sklearn.svm import SVC,LinearSVC\n",
        "from sklearn.naive_bayes import GaussianNB\n",
        "from sklearn.neighbors import KNeighborsClassifier\n",
        "from xgboost import XGBClassifier\n",
        "from sklearn.metrics import accuracy_score"
      ],
      "execution_count": null,
      "outputs": []
    },
    {
      "cell_type": "code",
      "metadata": {
        "colab": {
          "base_uri": "https://localhost:8080/"
        },
        "id": "BD2zE5qu5dih",
        "outputId": "4e7ffe63-6240-4063-8a85-159a86a9b2b0"
      },
      "source": [
        "m1=LogisticRegression(max_iter=10000)\n",
        "m1.fit(train_x , train_y)\n",
        "p1=m1.predict(val_x)\n",
        "a1=accuracy_score(val_y,p1)\n",
        "print(a1)"
      ],
      "execution_count": null,
      "outputs": [
        {
          "name": "stdout",
          "output_type": "stream",
          "text": [
            "0.8576158940397351\n"
          ]
        }
      ]
    },
    {
      "cell_type": "code",
      "metadata": {
        "colab": {
          "base_uri": "https://localhost:8080/"
        },
        "id": "wHdnNum85lLE",
        "outputId": "632df4c5-6a62-4c76-e6d4-ab35041b2d8c"
      },
      "source": [
        "m2=DecisionTreeClassifier()\n",
        "m2.fit(train_x,train_y)\n",
        "p2=m2.predict(val_x)\n",
        "a2=accuracy_score(val_y,p2)\n",
        "print(a2)"
      ],
      "execution_count": null,
      "outputs": [
        {
          "name": "stdout",
          "output_type": "stream",
          "text": [
            "0.7533112582781457\n"
          ]
        }
      ]
    },
    {
      "cell_type": "code",
      "metadata": {
        "colab": {
          "base_uri": "https://localhost:8080/"
        },
        "id": "IAFYEb376tt-",
        "outputId": "c9ea20ed-cd0f-4676-a5ff-ea5739b96928"
      },
      "source": [
        "m3=RandomForestClassifier(n_estimators=500)\n",
        "m3.fit(train_x,train_y)\n",
        "p3=m3.predict(val_x)\n",
        "a3=accuracy_score(val_y,p3)\n",
        "print(a3)"
      ],
      "execution_count": null,
      "outputs": [
        {
          "name": "stdout",
          "output_type": "stream",
          "text": [
            "0.8625827814569537\n"
          ]
        }
      ]
    },
    {
      "cell_type": "code",
      "metadata": {
        "colab": {
          "base_uri": "https://localhost:8080/"
        },
        "id": "L8JdIIbg6-wi",
        "outputId": "0bfd9945-f39d-4c99-d935-2661e0acaedd"
      },
      "source": [
        "m4=SVC()\n",
        "m4.fit(train_x,train_y)\n",
        "p4=m4.predict(val_x)\n",
        "a4=accuracy_score(val_y,p4)\n",
        "print(a4)"
      ],
      "execution_count": null,
      "outputs": [
        {
          "name": "stdout",
          "output_type": "stream",
          "text": [
            "0.859271523178808\n"
          ]
        }
      ]
    },
    {
      "cell_type": "code",
      "metadata": {
        "colab": {
          "base_uri": "https://localhost:8080/",
          "height": 295
        },
        "id": "0D5oBcVE7oSk",
        "outputId": "82835707-ca6c-46fe-a0d6-648c125156bc"
      },
      "source": [
        "from sklearn import metrics\n",
        "import matplotlib.pyplot as plt\n",
        "k_range = list(range(1,100))\n",
        "scores = []\n",
        "for k in k_range:\n",
        "    knn = KNeighborsClassifier(n_neighbors=k)\n",
        "    knn.fit(train_x,train_y)\n",
        "    y_pred = knn.predict(val_x)\n",
        "    scores.append(metrics.accuracy_score(val_y, y_pred))\n",
        "    \n",
        "plt.plot(k_range, scores)\n",
        "plt.xlabel('Value of k for KNN')\n",
        "plt.ylabel('Accuracy Score')\n",
        "plt.title('Accuracy Scores for Values of k of k-Nearest-Neighbors')\n",
        "plt.show()"
      ],
      "execution_count": null,
      "outputs": [
        {
          "data": {
            "image/png": "[encoded data removed]",
            "text/plain": [
              "<Figure size 432x288 with 1 Axes>"
            ]
          },
          "metadata": {},
          "output_type": "display_data"
        }
      ]
    },
    {
      "cell_type": "code",
      "metadata": {
        "colab": {
          "base_uri": "https://localhost:8080/",
          "height": 295
        },
        "id": "qoHJfquR7xT7",
        "outputId": "cf7c2910-a460-439c-f8fc-426ecdbe27ea"
      },
      "source": [
        "from sklearn import metrics\n",
        "import matplotlib.pyplot as plt\n",
        "k_range = list(range(1,20))\n",
        "scores = []\n",
        "for k in k_range:\n",
        "    knn = KNeighborsClassifier(n_neighbors=k)\n",
        "    knn.fit(train_x,train_y)\n",
        "    y_pred = knn.predict(val_x)\n",
        "    scores.append(metrics.accuracy_score(val_y, y_pred))\n",
        "    \n",
        "plt.plot(k_range, scores)\n",
        "plt.xlabel('Value of k for KNN')\n",
        "plt.ylabel('Accuracy Score')\n",
        "plt.title('Accuracy Scores for Values of k of k-Nearest-Neighbors')\n",
        "plt.show()"
      ],
      "execution_count": null,
      "outputs": [
        {
          "data": {
            "image/png": "[encoded data removed]",
            "text/plain": [
              "<Figure size 432x288 with 1 Axes>"
            ]
          },
          "metadata": {},
          "output_type": "display_data"
        }
      ]
    },
    {
      "cell_type": "code",
      "metadata": {
        "colab": {
          "base_uri": "https://localhost:8080/"
        },
        "id": "EeUlTKOG8BNH",
        "outputId": "407db4b3-cca5-49c4-d90a-c107d37cee84"
      },
      "source": [
        "m5=KNeighborsClassifier(n_neighbors=10)\n",
        "m5.fit(train_x,train_y)\n",
        "p5=m5.predict(val_x)\n",
        "a5=accuracy_score(val_y,p5)\n",
        "print(a5)"
      ],
      "execution_count": null,
      "outputs": [
        {
          "name": "stdout",
          "output_type": "stream",
          "text": [
            "0.8576158940397351\n"
          ]
        }
      ]
    },
    {
      "cell_type": "code",
      "metadata": {
        "colab": {
          "base_uri": "https://localhost:8080/"
        },
        "id": "N_-mJ6VC8S6e",
        "outputId": "621810c4-551f-4a4b-d426-4c503589d391"
      },
      "source": [
        "m7=GaussianNB()\n",
        "m7.fit(train_x,train_y)\n",
        "p7=m7.predict(val_x)\n",
        "a7=accuracy_score(val_y,p7)\n",
        "print(a7)\n"
      ],
      "execution_count": null,
      "outputs": [
        {
          "name": "stdout",
          "output_type": "stream",
          "text": [
            "0.8394039735099338\n"
          ]
        }
      ]
    },
    {
      "cell_type": "code",
      "metadata": {
        "colab": {
          "base_uri": "https://localhost:8080/"
        },
        "id": "KmWPE1_q8gCE",
        "outputId": "0f937c5b-800c-44d1-9151-c88e590f00d8"
      },
      "source": [
        "m6=XGBClassifier()\n",
        "m6.fit(train_x,train_y)\n",
        "p6=m6.predict(val_x)\n",
        "a6=accuracy_score(val_y,p6)\n",
        "print(a6)"
      ],
      "execution_count": null,
      "outputs": [
        {
          "name": "stdout",
          "output_type": "stream",
          "text": [
            "0.859271523178808\n"
          ]
        }
      ]
    },
    {
      "cell_type": "code",
      "metadata": {
        "colab": {
          "base_uri": "https://localhost:8080/"
        },
        "id": "IlnZLzgV8t-O",
        "outputId": "9c90ccf6-40f9-41eb-9180-3d25503fb437"
      },
      "source": [
        "params={\n",
        "    \"learning_rate\":[0.05,0.10,0.15,0.2,0.25,0.3],\n",
        "    \"max_depth\":[1,4,6,8,10,15] ,\n",
        "    \"min_child_weight\":[1,3,5,7] ,\n",
        "    \"gamma\":[0.1,0.2,0.3,0.4] ,\n",
        "    \"n_estimators\":[100,200,300,400,500]\n",
        "}\n",
        "from sklearn.model_selection import RandomizedSearchCV , GridSearchCV\n",
        "r_s=RandomizedSearchCV(m6,param_distributions=params,n_iter=5,n_jobs=-1)\n",
        "r_s.fit(train_x,train_y)\n",
        "r_s.best_params_\n",
        "r_s.best_estimator_"
      ],
      "execution_count": null,
      "outputs": [
        {
          "data": {
            "text/plain": [
              "XGBClassifier(base_score=0.5, booster='gbtree', colsample_bylevel=1,\n",
              "              colsample_bynode=1, colsample_bytree=1, gamma=0.4,\n",
              "              learning_rate=0.05, max_delta_step=0, max_depth=6,\n",
              "              min_child_weight=1, missing=None, n_estimators=200, n_jobs=1,\n",
              "              nthread=None, objective='binary:logistic', random_state=0,\n",
              "              reg_alpha=0, reg_lambda=1, scale_pos_weight=1, seed=None,\n",
              "              silent=None, subsample=1, verbosity=1)"
            ]
          },
          "execution_count": 29,
          "metadata": {},
          "output_type": "execute_result"
        }
      ]
    },
    {
      "cell_type": "code",
      "metadata": {
        "colab": {
          "base_uri": "https://localhost:8080/"
        },
        "id": "ENHocvHz84yC",
        "outputId": "44f8e56e-8cf0-46bd-8c7c-4d641cca83bb"
      },
      "source": [
        "m8=XGBClassifier(base_score=0.5, booster='gbtree', colsample_bylevel=1,\n",
        "              colsample_bynode=1, colsample_bytree=1, gamma=0.4,\n",
        "              learning_rate=0.1, max_delta_step=0, max_depth=1,\n",
        "              min_child_weight=1, missing=None, n_estimators=200, n_jobs=1,\n",
        "              nthread=None, objective='binary:logistic', random_state=0,\n",
        "              reg_alpha=0, reg_lambda=1, scale_pos_weight=1, seed=None,\n",
        "              silent=None, subsample=1, verbosity=1)\n",
        "\n",
        "m8.fit(train_x,train_y)\n",
        "p8=m8.predict(val_x)\n",
        "a8=accuracy_score(val_y,p8)\n",
        "print(a8)\n"
      ],
      "execution_count": null,
      "outputs": [
        {
          "name": "stdout",
          "output_type": "stream",
          "text": [
            "0.8609271523178808\n"
          ]
        }
      ]
    },
    {
      "cell_type": "code",
      "metadata": {
        "colab": {
          "background_save": true
        },
        "id": "oLgo0ZyC9LB6",
        "outputId": "b8ee75b0-63f5-4c0a-d5fe-c885d1a3fadf"
      },
      "source": [
        "params={\n",
        "\n",
        "    \"max_depth\": [10, 20, 30, 40] ,\n",
        "    'min_samples_leaf': [1, 2, 4] ,\n",
        "    'min_samples_split': [2, 5, 10] ,\n",
        "    \"n_estimators\":[1000,1500,2000]\n",
        "}\n",
        "from sklearn.model_selection import RandomizedSearchCV , GridSearchCV\n",
        "r_s=GridSearchCV(m3,param_grid=params,n_jobs=-1)\n",
        "r_s.fit(train_x,train_y)\n",
        "r_s.best_params_\n",
        "r_s.best_estimator_"
      ],
      "execution_count": null,
      "outputs": [
        {
          "data": {
            "text/plain": [
              "RandomForestClassifier(bootstrap=True, ccp_alpha=0.0, class_weight=None,\n",
              "                       criterion='gini', max_depth=20, max_features='auto',\n",
              "                       max_leaf_nodes=None, max_samples=None,\n",
              "                       min_impurity_decrease=0.0, min_impurity_split=None,\n",
              "                       min_samples_leaf=4, min_samples_split=2,\n",
              "                       min_weight_fraction_leaf=0.0, n_estimators=1000,\n",
              "                       n_jobs=None, oob_score=False, random_state=None,\n",
              "                       verbose=0, warm_start=False)"
            ]
          },
          "execution_count": null,
          "metadata": {},
          "output_type": "execute_result"
        }
      ]
    },
    {
      "cell_type": "code",
      "metadata": {
        "id": "PhwakuRN9t9p"
      },
      "source": [
        ""
      ],
      "execution_count": null,
      "outputs": []
    }
  ]
}